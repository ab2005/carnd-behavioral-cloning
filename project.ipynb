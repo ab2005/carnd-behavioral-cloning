{
 "cells": [
  {
   "cell_type": "markdown",
   "metadata": {},
   "source": [
    "# Behavioral Cloning"
   ]
  },
  {
   "cell_type": "markdown",
   "metadata": {},
   "source": [
    "The list of file to submit:\n",
    "- model.py - The script used to create and train the model.\n",
    "- [drive.py](./drive.py) - The script to drive the car. You can feel free to resubmit the original drive.py or make modifications and submit your modified version.\n",
    "- model.json - The model architecture.\n",
    "- model.h5 - The model weights.\n",
    "- [README.md](./README.md) - explains the structure of your network and training approach. While we recommend using English for good practice, writing in any language is acceptable (reviewers will translate). There is no minimum word count so long as there are complete descriptions of the problems and the strategies. See the rubric for more details about the expectations.\n"
   ]
  },
  {
   "cell_type": "markdown",
   "metadata": {},
   "source": [
    "First lets see what is=nside of the drive.py\n"
   ]
  },
  {
   "cell_type": "code",
   "execution_count": null,
   "metadata": {
    "collapsed": true
   },
   "outputs": [],
   "source": [
    "import argparse\n",
    "import base64\n",
    "import json\n",
    "\n",
    "import numpy as np\n",
    "import socketio\n",
    "import eventlet\n",
    "import eventlet.wsgi\n",
    "import time\n",
    "from PIL import Image\n",
    "from PIL import ImageOps\n",
    "from flask import Flask, render_template\n",
    "from io import BytesIO\n",
    "\n",
    "from keras.models import model_from_json\n",
    "from keras.preprocessing.image import ImageDataGenerator, array_to_img, img_to_array\n",
    "\n",
    "# Fix error with Keras and TensorFlow\n",
    "import tensorflow as tf\n",
    "tf.python.control_flow_ops = tf\n",
    "\n",
    "sio = socketio.Server()\n",
    "app = Flask(__name__)\n",
    "model = None\n",
    "prev_image_array = None\n",
    "\n",
    "@sio.on('telemetry')\n",
    "def telemetry(sid, data):\n",
    "    # The current steering angle of the car\n",
    "    steering_angle = data[\"steering_angle\"]\n",
    "    # The current throttle of the car\n",
    "    throttle = data[\"throttle\"]\n",
    "    # The current speed of the car\n",
    "    speed = data[\"speed\"]\n",
    "    # The current image from the center camera of the car\n",
    "    imgString = data[\"image\"]\n",
    "    image = Image.open(BytesIO(base64.b64decode(imgString)))\n",
    "    image_array = np.asarray(image)\n",
    "    transformed_image_array = image_array[None, :, :, :]\n",
    "    # This model currently assumes that the features of the model are just the images. Feel free to change this.\n",
    "    steering_angle = float(model.predict(transformed_image_array, batch_size=1))\n",
    "    # The driving model currently just outputs a constant throttle. Feel free to edit this.\n",
    "    throttle = 0.2\n",
    "    print(steering_angle, throttle)\n",
    "    send_control(steering_angle, throttle)\n",
    "\n",
    "\n",
    "@sio.on('connect')\n",
    "def connect(sid, environ):\n",
    "    print(\"connect \", sid)\n",
    "    send_control(0, 0)\n",
    "\n",
    "\n",
    "def send_control(steering_angle, throttle):\n",
    "    sio.emit(\"steer\", data={\n",
    "    'steering_angle': steering_angle.__str__(),\n",
    "    'throttle': throttle.__str__()\n",
    "    }, skip_sid=True)\n",
    "\n",
    "\n",
    "if __name__ == '__main__':\n",
    "    parser = argparse.ArgumentParser(description='Remote Driving')\n",
    "    parser.add_argument('model', type=str,\n",
    "    help='Path to model definition json. Model weights should be on the same path.')\n",
    "    args = parser.parse_args()\n",
    "    with open(args.model, 'r') as jfile:\n",
    "        # NOTE: if you saved the file by calling json.dump(model.to_json(), ...)\n",
    "        # then you will have to call:\n",
    "        #\n",
    "        #   model = model_from_json(json.loads(jfile.read()))\\\n",
    "        #\n",
    "        # instead.\n",
    "        model = model_from_json(jfile.read())\n",
    "\n",
    "\n",
    "    model.compile(\"adam\", \"mse\")\n",
    "    weights_file = args.model.replace('json', 'h5')\n",
    "    model.load_weights(weights_file)\n",
    "\n",
    "    # wrap Flask application with engineio's middleware\n",
    "    app = socketio.Middleware(sio, app)\n",
    "\n",
    "    # deploy as an eventlet WSGI server\n",
    "    eventlet.wsgi.server(eventlet.listen(('', 4567)), app)"
   ]
  },
  {
   "cell_type": "markdown",
   "metadata": {},
   "source": [
    "Nothing I can understand except it runs like: \n",
    "```shell \n",
    "python drive <json model> <h5 weights>\n",
    "```"
   ]
  },
  {
   "cell_type": "code",
   "execution_count": null,
   "metadata": {
    "collapsed": true
   },
   "outputs": [],
   "source": []
  }
 ],
 "metadata": {
  "kernelspec": {
   "display_name": "Python 3",
   "language": "python",
   "name": "python3"
  },
  "language_info": {
   "codemirror_mode": {
    "name": "ipython",
    "version": 3
   },
   "file_extension": ".py",
   "mimetype": "text/x-python",
   "name": "python",
   "nbconvert_exporter": "python",
   "pygments_lexer": "ipython3",
   "version": "3.5.2"
  },
  "widgets": {
   "state": {},
   "version": "1.1.2"
  }
 },
 "nbformat": 4,
 "nbformat_minor": 2
}
